{
 "cells": [
  {
   "cell_type": "markdown",
   "metadata": {},
   "source": [
    "\n",
    "list of api's\n",
    "- predict_media \n",
    "- get_user_info \n",
    "- login\n",
    "- register \n",
    "- get_user_history\n",
    "- edit_profile \n",
    "- get_detected_media "
   ]
  },
  {
   "cell_type": "code",
   "execution_count": 2,
   "metadata": {},
   "outputs": [
    {
     "name": "stdout",
     "output_type": "stream",
     "text": [
      "django_rest_framework== 3.15.1\n",
      "mtcnn== 0.1.0\n",
      "torch== 2.2.1+cpu\n",
      "Pyjwt== 1.7.1\n",
      "tensorflow== 2.16.1\n",
      "keras== 3.3.3\n",
      "django== 5.0.1\n",
      "Python== 3.11.5 | packaged by Anaconda, Inc. | (main, Sep 11 2023, 13:26:23) [MSC v.1916 64 bit (AMD64)]\n"
     ]
    }
   ],
   "source": [
    "import tensorflow\n",
    "import keras\n",
    "import sys\n",
    "import django\n",
    "import jwt\n",
    "import torch\n",
    "import rest_framework\n",
    "import mtcnn\n",
    "\n",
    "\n",
    "\n",
    "print(\"django_rest_framework==\",rest_framework.__version__)\n",
    "print(\"mtcnn==\",mtcnn.__version__)\n",
    "print(\"torch==\",torch.__version__)\n",
    "print(\"Pyjwt==\",jwt.__version__)\n",
    "print(\"tensorflow==\",tensorflow.__version__)\n",
    "print(\"keras==\",keras.__version__)\n",
    "print(\"django==\",django.__version__)\n",
    "print(\"Python==\", sys.version)\n"
   ]
  }
 ],
 "metadata": {
  "kernelspec": {
   "display_name": "catchai",
   "language": "python",
   "name": "python3"
  },
  "language_info": {
   "codemirror_mode": {
    "name": "ipython",
    "version": 3
   },
   "file_extension": ".py",
   "mimetype": "text/x-python",
   "name": "python",
   "nbconvert_exporter": "python",
   "pygments_lexer": "ipython3",
   "version": "3.11.5"
  }
 },
 "nbformat": 4,
 "nbformat_minor": 2
}
