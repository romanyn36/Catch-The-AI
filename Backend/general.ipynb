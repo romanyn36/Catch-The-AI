{
 "cells": [
  {
   "cell_type": "markdown",
   "metadata": {},
   "source": [
    "<h1>Tasks</h1>\n",
    "<h3>Ziad</h3>\n",
    "\n",
    "- detection API (contains options 1-images 2-text 3-audio  , data, returns result(message) ) تم الدعس بنجاح\n",
    "<h3>Abdallah</h3>\n",
    "\n",
    "- user profile (input username , output user/admin data ,user_type(user or admin ) ..) تم الدعس بنجاح\n",
    "<h3>Romani</h3>\n",
    "\n",
    "-   login تم الدعس بنجاح\n",
    "- signup تم الدعس بنجاح\n",
    "- dashboard\n",
    "- database تم الدعس بنجاح\n",
    "\n",
    "\n",
    "<hr>\n",
    "- edit profile /admin/user (input , all userdata hahah)"
   ]
  },
  {
   "cell_type": "code",
   "execution_count": null,
   "metadata": {},
   "outputs": [
    {
     "name": "stdout",
     "output_type": "stream",
     "text": [
      "tensorflow== 2.16.1\n",
      "keras== 3.0.5\n",
      "django== 5.0.3\n",
      "Python== 3.12.2 | packaged by Anaconda, Inc. | (main, Feb 27 2024, 17:28:07) [MSC v.1916 64 bit (AMD64)]\n"
     ]
    }
   ],
   "source": [
    "import tensorflow\n",
    "import keras\n",
    "import sys\n",
    "import django\n",
    "\n",
    "\n",
    "\n",
    "print(\"tensorflow==\",tensorflow.__version__)\n",
    "print(\"keras==\",keras.__version__)\n",
    "print(\"django==\",django.__version__)\n",
    "print(\"Python==\", sys.version)\n"
   ]
  }
 ],
 "metadata": {
  "kernelspec": {
   "display_name": "catchai",
   "language": "python",
   "name": "python3"
  },
  "language_info": {
   "codemirror_mode": {
    "name": "ipython",
    "version": 3
   },
   "file_extension": ".py",
   "mimetype": "text/x-python",
   "name": "python",
   "nbconvert_exporter": "python",
   "pygments_lexer": "ipython3",
   "version": "3.11.5"
  }
 },
 "nbformat": 4,
 "nbformat_minor": 2
}
