{
 "cells": [
  {
   "cell_type": "code",
   "execution_count": 48,
   "id": "90e0ad6a",
   "metadata": {},
   "outputs": [],
   "source": [
    "import numpy as np\n",
    "from tensorflow.keras.models import load_model\n",
    "from tensorflow.keras.preprocessing import image"
   ]
  },
  {
   "cell_type": "code",
   "execution_count": 49,
   "id": "226bdda8-c974-48ed-a365-1e92d198c415",
   "metadata": {
    "scrolled": true
   },
   "outputs": [],
   "source": [
    "# Load the pre-trained model\n",
    "model = load_model('Real VS Fake.h5')\n",
    "\n",
    "# Define function to preprocess input image\n",
    "def preprocess_image(img_path):\n",
    "    img = image.load_img(img_path, target_size=(256, 256))  # adjust target_size as per your model's input shape\n",
    "    img_array = image.img_to_array(img)\n",
    "    # rescale the pixel values to the range [0, 1]\n",
    "    img_array = img_array / 255.0\n",
    "    img_array = np.expand_dims(img_array, axis=0)\n",
    "    return img_array\n"
   ]
  },
  {
   "cell_type": "code",
   "execution_count": 50,
   "id": "68066add",
   "metadata": {},
   "outputs": [
    {
     "data": {
      "text/plain": [
       "['002002.png', '002010.png', '002024.png']"
      ]
     },
     "execution_count": 50,
     "metadata": {},
     "output_type": "execute_result"
    }
   ],
   "source": [
    "from glob import glob\n",
    "import os\n",
    "\n",
    "# Load the image files\n",
    "img_dir = '00*.png'\n",
    "img_files = glob(img_dir)\n",
    "img_files\n"
   ]
  },
  {
   "cell_type": "code",
   "execution_count": 51,
   "id": "396c2521-4273-44ba-aafd-4f572ffc82e4",
   "metadata": {},
   "outputs": [
    {
     "name": "stdout",
     "output_type": "stream",
     "text": [
      "1/1 [==============================] - 0s 141ms/step\n",
      "4.918914e-12\n",
      "AI generated fake image\n",
      "1/1 [==============================] - 0s 44ms/step\n",
      "1.261189e-24\n",
      "AI generated fake image\n",
      "1/1 [==============================] - 0s 52ms/step\n",
      "4.2925063e-08\n",
      "AI generated fake image\n"
     ]
    }
   ],
   "source": [
    "# fake 0\n",
    "# real 1\n",
    "# Example usage\n",
    "fake_images = ['f1.jpg', 'f2.jpg', 'f3.jpg','fake4.jpeg','fake5.jpeg']\n",
    "real_images = ['r1.jpg', 'r2.jpg', 'r3.jpg']\n",
    "styel_gan1=[ '002002.png', '002010.png', '002024.png']\n",
    "for img in styel_gan1:\n",
    "    img_array = preprocess_image(img)\n",
    "    predictions = model.predict(img_array)\n",
    "    print(predictions[0][0])\n",
    "\n",
    "    # Assuming the first class is for fake images and the second class is for real images\n",
    "    if predictions[0][0] < 0.5:\n",
    "        print(\"AI generated fake image\")\n",
    "    else:\n",
    "        print(\"Real image\")\n"
   ]
  }
 ],
 "metadata": {
  "kernelspec": {
   "display_name": "Python 3 (ipykernel)",
   "language": "python",
   "name": "python3"
  },
  "language_info": {
   "codemirror_mode": {
    "name": "ipython",
    "version": 3
   },
   "file_extension": ".py",
   "mimetype": "text/x-python",
   "name": "python",
   "nbconvert_exporter": "python",
   "pygments_lexer": "ipython3",
   "version": "3.11.5"
  }
 },
 "nbformat": 4,
 "nbformat_minor": 5
}
