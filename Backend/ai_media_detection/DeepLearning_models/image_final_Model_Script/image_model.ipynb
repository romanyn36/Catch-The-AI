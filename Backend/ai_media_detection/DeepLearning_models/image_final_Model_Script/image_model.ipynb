{
 "cells": [
  {
   "cell_type": "code",
   "execution_count": 8,
   "metadata": {},
   "outputs": [],
   "source": [
    "from  image_api import predict_image,init_model"
   ]
  },
  {
   "cell_type": "code",
   "execution_count": 9,
   "metadata": {},
   "outputs": [],
   "source": [
    "image_detector = init_model()"
   ]
  },
  {
   "cell_type": "code",
   "execution_count": 11,
   "metadata": {},
   "outputs": [
    {
     "name": "stdout",
     "output_type": "stream",
     "text": [
      "\u001b[1m1/1\u001b[0m \u001b[32m━━━━━━━━━━━━━━━━━━━━\u001b[0m\u001b[37m\u001b[0m \u001b[1m0s\u001b[0m 165ms/step\n",
      "\u001b[1m1/1\u001b[0m \u001b[32m━━━━━━━━━━━━━━━━━━━━\u001b[0m\u001b[37m\u001b[0m \u001b[1m0s\u001b[0m 101ms/step\n",
      "\u001b[1m1/1\u001b[0m \u001b[32m━━━━━━━━━━━━━━━━━━━━\u001b[0m\u001b[37m\u001b[0m \u001b[1m0s\u001b[0m 25ms/step\n",
      "\u001b[1m1/1\u001b[0m \u001b[32m━━━━━━━━━━━━━━━━━━━━\u001b[0m\u001b[37m\u001b[0m \u001b[1m0s\u001b[0m 20ms/step\n",
      "\u001b[1m1/1\u001b[0m \u001b[32m━━━━━━━━━━━━━━━━━━━━\u001b[0m\u001b[37m\u001b[0m \u001b[1m0s\u001b[0m 21ms/step\n",
      "\u001b[1m1/1\u001b[0m \u001b[32m━━━━━━━━━━━━━━━━━━━━\u001b[0m\u001b[37m\u001b[0m \u001b[1m0s\u001b[0m 19ms/step\n",
      "\u001b[1m1/1\u001b[0m \u001b[32m━━━━━━━━━━━━━━━━━━━━\u001b[0m\u001b[37m\u001b[0m \u001b[1m0s\u001b[0m 29ms/step\n",
      "\u001b[1m1/1\u001b[0m \u001b[32m━━━━━━━━━━━━━━━━━━━━\u001b[0m\u001b[37m\u001b[0m \u001b[1m0s\u001b[0m 18ms/step\n",
      "\u001b[1m1/1\u001b[0m \u001b[32m━━━━━━━━━━━━━━━━━━━━\u001b[0m\u001b[37m\u001b[0m \u001b[1m0s\u001b[0m 18ms/step\n",
      "\u001b[1m1/1\u001b[0m \u001b[32m━━━━━━━━━━━━━━━━━━━━\u001b[0m\u001b[37m\u001b[0m \u001b[1m0s\u001b[0m 18ms/step\n",
      "\u001b[1m1/1\u001b[0m \u001b[32m━━━━━━━━━━━━━━━━━━━━\u001b[0m\u001b[37m\u001b[0m \u001b[1m0s\u001b[0m 20ms/step\n",
      "\u001b[1m1/1\u001b[0m \u001b[32m━━━━━━━━━━━━━━━━━━━━\u001b[0m\u001b[37m\u001b[0m \u001b[1m0s\u001b[0m 18ms/step\n",
      "\u001b[1m14/14\u001b[0m \u001b[32m━━━━━━━━━━━━━━━━━━━━\u001b[0m\u001b[37m\u001b[0m \u001b[1m0s\u001b[0m 10ms/step\n",
      "\u001b[1m1/1\u001b[0m \u001b[32m━━━━━━━━━━━━━━━━━━━━\u001b[0m\u001b[37m\u001b[0m \u001b[1m0s\u001b[0m 103ms/step\n"
     ]
    },
    {
     "ename": "FileNotFoundError",
     "evalue": "[Errno 2] No such file or directory: 'media/temp/temp_face_0.jpg'",
     "output_type": "error",
     "traceback": [
      "\u001b[1;31m---------------------------------------------------------------------------\u001b[0m",
      "\u001b[1;31mFileNotFoundError\u001b[0m                         Traceback (most recent call last)",
      "Cell \u001b[1;32mIn[11], line 4\u001b[0m\n\u001b[0;32m      1\u001b[0m path  \u001b[38;5;241m=\u001b[39m \u001b[38;5;124mr\u001b[39m\u001b[38;5;124m\"\u001b[39m\u001b[38;5;124mD:\u001b[39m\u001b[38;5;124m\\\u001b[39m\u001b[38;5;124mGraduation-project\u001b[39m\u001b[38;5;124m\\\u001b[39m\u001b[38;5;124mBackend\u001b[39m\u001b[38;5;124m\\\u001b[39m\u001b[38;5;124mai_media_detection\u001b[39m\u001b[38;5;124m\\\u001b[39m\u001b[38;5;124mDeepLearning_models\u001b[39m\u001b[38;5;124m\\\u001b[39m\u001b[38;5;124mimage_final_Model_Script\u001b[39m\u001b[38;5;124m\\\u001b[39m\u001b[38;5;124mtest_images\u001b[39m\u001b[38;5;124m\\\u001b[39m\u001b[38;5;124mfake2.jpg\u001b[39m\u001b[38;5;124m\"\u001b[39m\n\u001b[0;32m      2\u001b[0m \u001b[38;5;66;03m# path  = r\"D:\\Mobile\\SD Card\\Romeo pics\\graduation project 2nd term\\-6039815399886932183_121.jpg\"\u001b[39;00m\n\u001b[0;32m      3\u001b[0m \u001b[38;5;66;03m# path  = r\"test_images/r1.jpg\"\u001b[39;00m\n\u001b[1;32m----> 4\u001b[0m result\u001b[38;5;241m=\u001b[39mpredict_image(path,image_detector)\n",
      "File \u001b[1;32md:\\Graduation-project\\Backend\\ai_media_detection\\DeepLearning_models\\image_final_Model_Script\\image_api.py:139\u001b[0m, in \u001b[0;36mpredict_image\u001b[1;34m(image_path, detector)\u001b[0m\n\u001b[0;32m    137\u001b[0m responses \u001b[38;5;241m=\u001b[39m []\n\u001b[0;32m    138\u001b[0m \u001b[38;5;28;01mfor\u001b[39;00m preprocessed_image_path \u001b[38;5;129;01min\u001b[39;00m preprocessed_image_paths:\n\u001b[1;32m--> 139\u001b[0m     response \u001b[38;5;241m=\u001b[39m query_huggingface_api(API_URL, preprocessed_image_path, API_TOKEN)\n\u001b[0;32m    140\u001b[0m     responses\u001b[38;5;241m.\u001b[39mappend(response)\n\u001b[0;32m    141\u001b[0m     \u001b[38;5;66;03m# Clean up the temporary files\u001b[39;00m\n",
      "File \u001b[1;32md:\\Graduation-project\\Backend\\ai_media_detection\\DeepLearning_models\\image_final_Model_Script\\image_api.py:62\u001b[0m, in \u001b[0;36mquery_huggingface_api\u001b[1;34m(api_url, file_path, api_token, max_retries, delay)\u001b[0m\n\u001b[0;32m     57\u001b[0m headers \u001b[38;5;241m=\u001b[39m {\n\u001b[0;32m     58\u001b[0m     \u001b[38;5;124m\"\u001b[39m\u001b[38;5;124mAuthorization\u001b[39m\u001b[38;5;124m\"\u001b[39m: \u001b[38;5;124mf\u001b[39m\u001b[38;5;124m\"\u001b[39m\u001b[38;5;124mBearer \u001b[39m\u001b[38;5;132;01m{\u001b[39;00mapi_token\u001b[38;5;132;01m}\u001b[39;00m\u001b[38;5;124m\"\u001b[39m\n\u001b[0;32m     59\u001b[0m }\n\u001b[0;32m     61\u001b[0m \u001b[38;5;28;01mfor\u001b[39;00m attempt \u001b[38;5;129;01min\u001b[39;00m \u001b[38;5;28mrange\u001b[39m(max_retries):\n\u001b[1;32m---> 62\u001b[0m     \u001b[38;5;28;01mwith\u001b[39;00m \u001b[38;5;28mopen\u001b[39m(file_path, \u001b[38;5;124m'\u001b[39m\u001b[38;5;124mrb\u001b[39m\u001b[38;5;124m'\u001b[39m) \u001b[38;5;28;01mas\u001b[39;00m f:\n\u001b[0;32m     63\u001b[0m         data \u001b[38;5;241m=\u001b[39m f\u001b[38;5;241m.\u001b[39mread()\n\u001b[0;32m     65\u001b[0m     response \u001b[38;5;241m=\u001b[39m requests\u001b[38;5;241m.\u001b[39mpost(api_url, headers\u001b[38;5;241m=\u001b[39mheaders, data\u001b[38;5;241m=\u001b[39mdata)\n",
      "\u001b[1;31mFileNotFoundError\u001b[0m: [Errno 2] No such file or directory: 'media/temp/temp_face_0.jpg'"
     ]
    }
   ],
   "source": [
    "path  = r\"D:\\Graduation-project\\Backend\\ai_media_detection\\DeepLearning_models\\image_final_Model_Script\\test_images\\fake2.jpg\"\n",
    "# path  = r\"D:\\Mobile\\SD Card\\Romeo pics\\graduation project 2nd term\\-6039815399886932183_121.jpg\"\n",
    "# path  = r\"test_images/r1.jpg\"\n",
    "result=predict_image(path,image_detector)"
   ]
  },
  {
   "cell_type": "code",
   "execution_count": null,
   "metadata": {},
   "outputs": [
    {
     "data": {
      "text/plain": [
       "(['Real (99.80%)', 'Real (99.92%)', 'Real (99.95%)'],\n",
       " array([[[  1,   7,  12],\n",
       "         [  0,   0,   4],\n",
       "         [  0,   7,  10],\n",
       "         ...,\n",
       "         [  0,  31,  22],\n",
       "         [ 11,  45,  35],\n",
       "         [ 37,  71,  61]],\n",
       " \n",
       "        [[  0,   3,   8],\n",
       "         [  0,   4,   9],\n",
       "         [ 10,  17,  20],\n",
       "         ...,\n",
       "         [  4,  35,  26],\n",
       "         [ 14,  48,  38],\n",
       "         [ 37,  71,  61]],\n",
       " \n",
       "        [[  0,   2,   7],\n",
       "         [ 10,  16,  21],\n",
       "         [ 26,  33,  36],\n",
       "         ...,\n",
       "         [  6,  37,  28],\n",
       "         [ 16,  50,  40],\n",
       "         [ 36,  70,  60]],\n",
       " \n",
       "        ...,\n",
       " \n",
       "        [[198, 202, 213],\n",
       "         [189, 193, 204],\n",
       "         [211, 215, 226],\n",
       "         ...,\n",
       "         [141, 150, 160],\n",
       "         [168, 177, 187],\n",
       "         [184, 193, 203]],\n",
       " \n",
       "        [[185, 189, 200],\n",
       "         [187, 191, 202],\n",
       "         [194, 198, 209],\n",
       "         ...,\n",
       "         [135, 144, 154],\n",
       "         [112, 121, 131],\n",
       "         [150, 159, 169]],\n",
       " \n",
       "        [[189, 193, 204],\n",
       "         [188, 192, 203],\n",
       "         [177, 181, 192],\n",
       "         ...,\n",
       "         [174, 183, 193],\n",
       "         [128, 137, 147],\n",
       "         [154, 163, 173]]], dtype=uint8))"
      ]
     },
     "execution_count": 4,
     "metadata": {},
     "output_type": "execute_result"
    }
   ],
   "source": [
    "result"
   ]
  }
 ],
 "metadata": {
  "kernelspec": {
   "display_name": "base",
   "language": "python",
   "name": "python3"
  },
  "language_info": {
   "codemirror_mode": {
    "name": "ipython",
    "version": 3
   },
   "file_extension": ".py",
   "mimetype": "text/x-python",
   "name": "python",
   "nbconvert_exporter": "python",
   "pygments_lexer": "ipython3",
   "version": "3.11.5"
  }
 },
 "nbformat": 4,
 "nbformat_minor": 2
}
