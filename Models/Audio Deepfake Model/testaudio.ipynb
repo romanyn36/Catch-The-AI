{
 "cells": [
  {
   "cell_type": "code",
   "execution_count": 1,
   "metadata": {},
   "outputs": [],
   "source": [
    "from AudioMediaClassifier import AudioMediaClassifier"
   ]
  },
  {
   "cell_type": "code",
   "execution_count": 2,
   "metadata": {},
   "outputs": [],
   "source": [
    "audioMediaClassifier=AudioMediaClassifier()"
   ]
  },
  {
   "cell_type": "code",
   "execution_count": 3,
   "metadata": {},
   "outputs": [
    {
     "name": "stdout",
     "output_type": "stream",
     "text": [
      "API Response: [{'score': 0.9999452829360962, 'label': 'fake'}, {'score': 5.473888813867234e-05, 'label': 'real'}]\n",
      "Label with max score: fake\n",
      "Final Label: fake audio\n"
     ]
    }
   ],
   "source": [
    "# Example input file\n",
    "input_file = r'D:\\Graduation-project\\Backend\\ai_media_detection\\DeepLearning_models\\image_final_Model_Script\\test_images\\David_Goggins_Wakes_You_Up_out_2.wav'  # Update with your input file path\n",
    "\n",
    "# Process and classify the input file\n",
    "label = audioMediaClassifier.process_and_classify(input_file)\n",
    "print(f\"Final Label: {label}\")\n"
   ]
  }
 ],
 "metadata": {
  "kernelspec": {
   "display_name": "base",
   "language": "python",
   "name": "python3"
  },
  "language_info": {
   "codemirror_mode": {
    "name": "ipython",
    "version": 3
   },
   "file_extension": ".py",
   "mimetype": "text/x-python",
   "name": "python",
   "nbconvert_exporter": "python",
   "pygments_lexer": "ipython3",
   "version": "3.11.5"
  }
 },
 "nbformat": 4,
 "nbformat_minor": 2
}
