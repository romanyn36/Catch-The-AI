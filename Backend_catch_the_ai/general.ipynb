{
 "cells": [
  {
   "cell_type": "markdown",
   "metadata": {},
   "source": [
    "<h1>Tasks</h1>\n",
    "<h3>Ziad</h3>\n",
    "\n",
    "- detection API (contains options 1-images 2-text 3-audio  , data, returns result(message) ) تم الدعس بنجاح\n",
    "<h3>Abdallah</h3>\n",
    "\n",
    "- user profile (input username , output user/admin data ,user_type(user or admin ) ..) تم الدعس بنجاح\n",
    "<h3>Romani</h3>\n",
    "\n",
    "-   login تم الدعس بنجاح\n",
    "- signup تم الدعس بنجاح\n",
    "- dashboard\n",
    "- database تم الدعس بنجاح\n",
    "- edit profile /admin/user (input , all userdata hahah) تم الدعس بنجاح"
   ]
  },
  {
   "cell_type": "code",
   "execution_count": 1,
   "metadata": {},
   "outputs": [
    {
     "name": "stdout",
     "output_type": "stream",
     "text": [
      "django_rest_framework== 3.15.1\n",
      "Pyjwt== 1.7.1\n",
      "tensorflow== 2.16.1\n",
      "keras== 3.3.3\n",
      "django== 5.0.1\n"
     ]
    }
   ],
   "source": [
    "import tensorflow\n",
    "import keras\n",
    "import sys\n",
    "import django\n",
    "import jwt\n",
    "import rest_framework\n",
    "\n",
    "\n",
    "\n",
    "print(\"django_rest_framework==\",rest_framework.__version__)\n",
    "print(\"Pyjwt==\",jwt.__version__)\n",
    "print(\"tensorflow==\",tensorflow.__version__)\n",
    "print(\"keras==\",keras.__version__)\n",
    "print(\"django==\",django.__version__)\n",
    "# print(\"Python==\", sys.version)\n"
   ]
  }
 ],
 "metadata": {
  "kernelspec": {
   "display_name": "catchai",
   "language": "python",
   "name": "python3"
  },
  "language_info": {
   "codemirror_mode": {
    "name": "ipython",
    "version": 3
   },
   "file_extension": ".py",
   "mimetype": "text/x-python",
   "name": "python",
   "nbconvert_exporter": "python",
   "pygments_lexer": "ipython3",
   "version": "3.11.5"
  }
 },
 "nbformat": 4,
 "nbformat_minor": 2
}
